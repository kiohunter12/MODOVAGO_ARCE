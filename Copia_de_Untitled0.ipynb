{
  "nbformat": 4,
  "nbformat_minor": 0,
  "metadata": {
    "colab": {
      "name": "Copia de Untitled0.ipynb",
      "provenance": [],
      "authorship_tag": "ABX9TyNIaSwXOR0vNU6DrF4i9iiQ",
      "include_colab_link": true
    },
    "kernelspec": {
      "name": "python3",
      "display_name": "Python 3"
    },
    "language_info": {
      "name": "python"
    }
  },
  "cells": [
    {
      "cell_type": "markdown",
      "metadata": {
        "id": "view-in-github",
        "colab_type": "text"
      },
      "source": [
        "<a href=\"https://colab.research.google.com/github/kiohunter12/MODOVAGO_ARCE/blob/main/Copia_de_Untitled0.ipynb\" target=\"_parent\"><img src=\"https://colab.research.google.com/assets/colab-badge.svg\" alt=\"Open In Colab\"/></a>"
      ]
    },
    {
      "cell_type": "code",
      "execution_count": null,
      "metadata": {
        "colab": {
          "base_uri": "https://localhost:8080/"
        },
        "id": "xlJO68nRCUpB",
        "outputId": "de48e142-89d8-43e0-f983-b4928cb770f6"
      },
      "outputs": [
        {
          "output_type": "stream",
          "name": "stdout",
          "text": [
            "Ingrese el precio base del articulo:50\n",
            "El precio con descuento es:40.0\n",
            "El precio final es:47.2\n"
          ]
        }
      ],
      "source": [
        "#Definir variables\n",
        "descuento:float=0.20\n",
        "igv:float\n",
        "pbase:float\n",
        "pcd:float\n",
        "pf:float\n",
        "#Datos de entrada\n",
        "pbase=float(input(\"Ingrese el precio base del articulo:\"))\n",
        "#Proceso\n",
        "pcd=pbase-(pbase*descuento)\n",
        "igv=pcd*0.18\n",
        "pf=pcd+igv\n",
        "#Datos de salida\n",
        "print(f\"El precio con descuento es:{pcd}\")\n",
        "print(f\"El precio final es:{pf}\")"
      ]
    },
    {
      "cell_type": "code",
      "source": [
        "#Definir variable\n",
        "intensidad:float\n",
        "resistencia:float=4\n",
        "potencia:float\n",
        "#Datos de entrada\n",
        "intensidad=float(input(\"Ingrese la intensidad\"))\n",
        "#proceso\n",
        "potencia=resistencia*(intensidad*intensidad)\n",
        "#Datos de salida\n",
        "print(f\"la potencia es: {potencia}\")"
      ],
      "metadata": {
        "id": "Rf2DAlMUTnWw"
      },
      "execution_count": null,
      "outputs": []
    },
    {
      "cell_type": "code",
      "source": [
        "#definir variable\n",
        "b1:float\n",
        "b2:float\n",
        "a:float\n",
        "h:float\n",
        "#datos de entrada\n",
        "h=float(input(\"ingrese altura\"))\n",
        "b1=float(input(\"ingrese el lado de b1\"))\n",
        "b2=float(input(\"ingrese la altura de b2\"))\n",
        "#proceso\n",
        "a=b1*b2*h\n",
        "#datos de salida \n",
        "print(f\"el area del trapecio: {a}\")\n",
        "\n",
        "\n",
        "\n",
        "\n"
      ],
      "metadata": {
        "id": "55mKXpdqEILr",
        "colab": {
          "base_uri": "https://localhost:8080/"
        },
        "outputId": "2341bf72-847d-4d24-cbf4-5b59e1b468c9"
      },
      "execution_count": 2,
      "outputs": [
        {
          "output_type": "stream",
          "name": "stdout",
          "text": [
            "ingrese altura10\n",
            "ingrese el lado de b15\n",
            "ingrese la altura de b222\n",
            "el area del trapecio: 1100.0\n"
          ]
        }
      ]
    },
    {
      "cell_type": "code",
      "source": [
        ""
      ],
      "metadata": {
        "id": "9XPHt1nofWhR"
      },
      "execution_count": null,
      "outputs": []
    },
    {
      "cell_type": "code",
      "source": [
        "#definir variable\n",
        "a:float\n",
        "h:float\n",
        "b:float\n",
        "#datos de entrada\n",
        "h=float(input(\"ingrese el valor de h\"))\n",
        "b=float(input(\"ingrese el lado de b\"))\n",
        "#proceso\n",
        "a=b*h/2\n",
        "#datos de salida\n",
        "print(f\"el area del triagunlo es: {a}\")"
      ],
      "metadata": {
        "colab": {
          "base_uri": "https://localhost:8080/"
        },
        "id": "6zCblZpOchja",
        "outputId": "394a8e71-e2a3-4cb0-f1b8-9d415a239140"
      },
      "execution_count": 3,
      "outputs": [
        {
          "output_type": "stream",
          "name": "stdout",
          "text": [
            "ingrese el valor de h10\n",
            "ingrese el lado de b15\n",
            "el area del triagunlo es: 75.0\n"
          ]
        }
      ]
    },
    {
      "cell_type": "code",
      "source": [
        "#definir variable\n",
        "pi:float=3.14\n",
        "r:float\n",
        "c:float\n",
        "#datos de entrada\n",
        "r=float(input(\"ingrese valor del radio\"))\n",
        "#proceso\n",
        "c=2*pi*r\n",
        "#datos de salida\n",
        "print(f\"la longitud de la circunferencia es: {c}\")"
      ],
      "metadata": {
        "colab": {
          "base_uri": "https://localhost:8080/"
        },
        "id": "umwy7KgteCyU",
        "outputId": "6e1793a6-0626-4f27-b10e-ecfb9dd2d482"
      },
      "execution_count": 4,
      "outputs": [
        {
          "output_type": "stream",
          "name": "stdout",
          "text": [
            "ingrese valor del radio10\n",
            "la longitud de la circunferencia es: 62.800000000000004\n"
          ]
        }
      ]
    },
    {
      "cell_type": "code",
      "source": [
        "#definir varialbe\n",
        "k:float\n",
        "c:float\n",
        "t:float\n",
        "#datos de entrada\n",
        "c=float(input(\"ingrese el costo por kilometro\"))\n",
        "k=float(input(\"ingrese la cantidad de kilometros\"))\n",
        "#proceso\n",
        "t=c*k\n",
        "#datos de salida\n",
        "print(f\"el precio total es: {t}\")\n",
        "\n"
      ],
      "metadata": {
        "colab": {
          "base_uri": "https://localhost:8080/"
        },
        "id": "O7EujXJ9fcXf",
        "outputId": "f4e818b7-ff00-46c7-9259-eb908b0efa09"
      },
      "execution_count": 5,
      "outputs": [
        {
          "output_type": "stream",
          "name": "stdout",
          "text": [
            "ingrese el costo por kilometro15\n",
            "ingrese la cantidad de kilometros200\n",
            "el precio total es: 3000.0\n"
          ]
        }
      ]
    },
    {
      "cell_type": "code",
      "source": [
        "#definir varialbe\n",
        "h:float\n",
        "c:float\n",
        "t:float\n",
        "#datos de entrada\n",
        "h=float(input(\"ingrese el tiempo\"))\n",
        "c=float(input(\"ingrese el costo por hora\"))\n",
        "#proceso\n",
        "t=h*c\n",
        "#datos de salida\n",
        "print(f\"el precio total es: {t}\")"
      ],
      "metadata": {
        "colab": {
          "base_uri": "https://localhost:8080/"
        },
        "id": "feMVi-UmgLAQ",
        "outputId": "e39018cc-8acb-4cf5-f3dd-6f16b8741af3"
      },
      "execution_count": 6,
      "outputs": [
        {
          "output_type": "stream",
          "name": "stdout",
          "text": [
            "ingrese el tiempo100\n",
            "ingrese el costo por hora25\n",
            "el precio total es: 2500.0\n"
          ]
        }
      ]
    },
    {
      "cell_type": "code",
      "source": [
        "#definir varialbe\n",
        "c:float\n",
        "a:float\n",
        "b:float\n",
        "#datos de entrada\n",
        "a=float(input(\"ingrese el lado a\"))\n",
        "b=float(input(\"ingrese el lado b\"))\n",
        "#proceso\n",
        "c=(a**2)+(b**2)//2\n",
        "#datos de salida\n",
        "print(f\"la hipotenusa. es: {c}\")"
      ],
      "metadata": {
        "colab": {
          "base_uri": "https://localhost:8080/"
        },
        "id": "mcu1xU5dggJI",
        "outputId": "bf7d0313-450d-40da-f4c8-b22ce6a7176e"
      },
      "execution_count": 24,
      "outputs": [
        {
          "output_type": "stream",
          "name": "stdout",
          "text": [
            "ingrese el lado a3\n",
            "ingrese el lado b4\n",
            "la hipotenusa. es: 17.0\n"
          ]
        }
      ]
    },
    {
      "cell_type": "code",
      "source": [
        "#definir varialbe\n",
        "n1:float\n",
        "n2:float\n",
        "n3:float\n",
        "p:float\n",
        "#datos de entrada\n",
        "n1=float(input(\"ingrese nota 1\"))\n",
        "n2=float(input(\"ingrese nota 2\"))\n",
        "n3=float(input(\"ingrese nota 3\"))\n",
        "#proceso\n",
        "p=(0.25*n1)+(0.25*n2)+(0.50*n3)\n",
        "#datos de salida\n",
        "print(f\"el promedio final es: {p}\")"
      ],
      "metadata": {
        "colab": {
          "base_uri": "https://localhost:8080/"
        },
        "id": "SEhJtNq1jFcQ",
        "outputId": "806deab4-4d84-4aae-e1fe-15d9a6d5f792"
      },
      "execution_count": 25,
      "outputs": [
        {
          "output_type": "stream",
          "name": "stdout",
          "text": [
            "ingrese nota 115\n",
            "ingrese nota 216\n",
            "ingrese nota 318\n",
            "el promedio final es: 16.75\n"
          ]
        }
      ]
    },
    {
      "cell_type": "code",
      "source": [
        "#definir varialbe\n",
        "n:float\n",
        "s:float\n",
        "#datos de entrada\n",
        "n=float(input(\"ingrese valor de n\"))\n",
        "#proceso\n",
        "s=n*(n+1)\n",
        "#datos de salida\n",
        "print(f\"la suma de los n numeros pares es: {s}\")"
      ],
      "metadata": {
        "colab": {
          "base_uri": "https://localhost:8080/"
        },
        "id": "63xfJWF6kYGQ",
        "outputId": "cfc306dc-90a6-4057-a2ae-208efbe3db88"
      },
      "execution_count": 35,
      "outputs": [
        {
          "output_type": "stream",
          "name": "stdout",
          "text": [
            "ingrese valor de n10\n",
            "la suma de los n numeros pares es: 110.0\n"
          ]
        }
      ]
    }
  ]
}